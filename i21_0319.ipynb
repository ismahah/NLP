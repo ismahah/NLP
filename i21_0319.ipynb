{
  "nbformat": 4,
  "nbformat_minor": 0,
  "metadata": {
    "colab": {
      "provenance": []
    },
    "kernelspec": {
      "name": "python3",
      "display_name": "Python 3"
    },
    "language_info": {
      "name": "python"
    }
  },
  "cells": [
    {
      "cell_type": "code",
      "source": [
        "#Name: Isma Imtiaz\n",
        "#21i-0319"
      ],
      "metadata": {
        "id": "MY7C6nWGHchl"
      },
      "execution_count": 20,
      "outputs": []
    },
    {
      "cell_type": "code",
      "source": [
        "import random\n",
        "from collections import defaultdict\n",
        "import spacy\n",
        "nlp = spacy.load(\"en_core_web_sm\")\n",
        "corpus_file = \"urducorpus.txt\"\n",
        "with open(corpus_file, \"r\", encoding=\"utf-8\") as file:\n",
        "    lines = file.readlines()\n",
        "tokenizedcorpus = []\n",
        "for line in lines:\n",
        "    doc = nlp(line.strip())\n",
        "    tokenizedpoem = [token.text for token in doc]\n",
        "    tokenizedcorpus.append(tokenizedpoem)\n",
        "unigram = defaultdict(int)\n",
        "for poem in tokenizedcorpus:\n",
        "    for word in poem:\n",
        "        unigram[word] += 1\n",
        "bigram = defaultdict(lambda: defaultdict(int))\n",
        "for poem in tokenizedcorpus:\n",
        "    for i in range(1, len(poem)):\n",
        "        bigram[poem[i - 1]][poem[i]] += 1\n",
        "trigram = defaultdict(lambda: defaultdict(int))\n",
        "for poem in tokenizedcorpus:\n",
        "    for i in range(2, len(poem)):\n",
        "        trigram[(poem[i - 2], poem[i - 1])][poem[i]] += 1\n",
        "def unigrampoem():\n",
        "    verse = []\n",
        "    for _ in range(random.randint(7, 10)):\n",
        "        word = random.choices(list(unigram.keys()), weights=list(unigram.values()))[0]\n",
        "        verse.append(word)\n",
        "    return \" \".join(verse)\n",
        "def bigrampoem():\n",
        "    verse = []\n",
        "    word = random.choice(list(bigram.keys()))\n",
        "    verse.append(word)\n",
        "    for _ in range(random.randint(6, 9)):\n",
        "        if word in bigram:\n",
        "            next_word = random.choices(list(bigram[word].keys()), weights=list(bigram[word].values()))[0]\n",
        "            verse.append(next_word)\n",
        "            word = next_word\n",
        "        else:\n",
        "            break\n",
        "    return \" \".join(verse)\n",
        "def trigrampoem():\n",
        "    verse = []\n",
        "    word1, word2 = random.choice(list(trigram.keys()))\n",
        "    verse.extend([word1, word2])\n",
        "    for _ in range(random.randint(5, 8)):\n",
        "        if (word1, word2) in trigram:\n",
        "            next_word = random.choices(list(trigram[(word1, word2)].keys()), weights=list(trigram[(word1, word2)].values()))[0]\n",
        "            verse.append(next_word)\n",
        "            word1, word2 = word2, next_word\n",
        "        else:\n",
        "            break\n",
        "    return \" \".join(verse)\n",
        "\n",
        "for _ in range(4):\n",
        "    for _ in range(4):\n",
        "        verse = unigrampoem()\n",
        "        print(verse)\n",
        "    print()"
      ],
      "metadata": {
        "colab": {
          "base_uri": "https://localhost:8080/"
        },
        "id": "_Q6_dSn2dZUH",
        "outputId": "aa173747-0dcd-4ab0-97d0-f8a982782860"
      },
      "execution_count": 18,
      "outputs": [
        {
          "output_type": "stream",
          "name": "stdout",
          "text": [
            "کے کے پہ کے ہے جو ان\n",
            "پیاس رہے ساماں مجھے بدن جو جو سے\n",
            "یہ کی یادوں ہی ہیں اک ہو گئے\n",
            "فطرت میں کہکشاں میں تک دیار کسی آج ان\n",
            "\n",
            "ہیں اس اکیلا کہاں کی جس کہ مجھ\n",
            "گا سے و ہیں توہین یہ ہے پہلے\n",
            "چارہ کا اپنے ہے بنانے ہے میں ہے آ آخر\n",
            "ہے نہ جواب غم گئے کا میں کتنا میں مرے\n",
            "\n",
            "حال گے دیکھوں شاہ کہتا تھی دیکھ\n",
            "آئے سے خدا حال حصہ گزر زندگی کتاب ذکر کرنا\n",
            "سے میں ہوں پہنچے ہے نظر پی\n",
            "خدایان جواب دیار یار فتح جاتا ہیں اڑان کو حق\n",
            "\n",
            "دی روز میں کر دیکھنے خوب وابستہ نے\n",
            "ہے درندے میں تمام قصور نہیں فلک\n",
            "ہیں کے آسماں کو کس ترا رکھ میں\n",
            "ہے اک شباب چراغ حق شکایت کل\n",
            "\n"
          ]
        }
      ]
    },
    {
      "cell_type": "code",
      "source": [],
      "metadata": {
        "colab": {
          "base_uri": "https://localhost:8080/"
        },
        "id": "MWKsaHmKKBSl",
        "outputId": "f62b88c4-6730-4500-e3c6-a28fb3ef96fb"
      },
      "execution_count": 5,
      "outputs": [
        {
          "output_type": "stream",
          "name": "stdout",
          "text": [
            "Scraped shers from all URLs have been saved to urducorpus.txt\n"
          ]
        }
      ]
    }
  ]
}